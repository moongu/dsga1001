{
 "cells": [
  {
   "cell_type": "code",
   "execution_count": 67,
   "metadata": {},
   "outputs": [],
   "source": [
    "import numpy as np\n",
    "import pandas as pd\n",
    "import matplotlib.pyplot as plt\n",
    "from sklearn import metrics\n",
    "from sklearn.model_selection import train_test_split\n",
    "\n",
    "#import model packages\n",
    "from sklearn.ensemble import GradientBoostingRegressor  # gradient boost\n",
    "# linear regression\n",
    "# SVM\n",
    "# decision tree\n",
    "# random forest\n"
   ]
  },
  {
   "cell_type": "code",
   "execution_count": 68,
   "metadata": {},
   "outputs": [],
   "source": [
    "# read dataset for each feature selection method\n",
    "data = {}\n",
    "\n",
    "feature_selection_method = ['PCmd']  #, 'decision', 'selectKbest']  # ADD TARGET VARIABLE TO DATASETS\n",
    "\n",
    "for dataset in feature_selection_method:\n",
    "    data[dataset] = pd.read_pickle('d_{}.pkl'.format(dataset))\n",
    "    \n",
    "y_col = 's_sale_price'"
   ]
  },
  {
   "cell_type": "code",
   "execution_count": 69,
   "metadata": {},
   "outputs": [],
   "source": [
    "def trainTest(dat, pct):\n",
    "    '''\n",
    "    Randomly splits data into train and test\n",
    "    '''\n",
    "    dat_shuf = dat.reindex(np.random.permutation(dat.index))\n",
    "    trn = dat_shuf[:int(np.floor(dat_shuf.shape[0]*pct))]\n",
    "    tst = dat_shuf[int(np.floor(dat_shuf.shape[0]*pct)):]\n",
    "    return [trn, tst]"
   ]
  },
  {
   "cell_type": "code",
   "execution_count": 70,
   "metadata": {},
   "outputs": [],
   "source": [
    "def modBootstrapper(train, test, nruns, sampsize, model):\n",
    "    \n",
    "    accuracy_scores = []\n",
    "    mae_scores = []\n",
    "    mse_scores = []\n",
    "    for i in range(nruns):\n",
    "        train_samp = train.iloc[np.random.randint(0, len(train), size=sampsize),]\n",
    "        Y_train = train_samp[y_col]\n",
    "        X_train = train_samp.drop(y_col, 1)\n",
    "        Y_test = test[y_col]\n",
    "        X_test = test.drop(y_col, 1)\n",
    "        \n",
    "        if model == 'gradient_boost':\n",
    "            model = GradientBoostingRegressor()\n",
    "        elif model == 'linear_regression':\n",
    "            #model = \n",
    "            break\n",
    "        elif model == 'svm':\n",
    "            #model =  \n",
    "            break\n",
    "        elif model == 'decision_tree':\n",
    "            #model =  \n",
    "            break\n",
    "        elif model == 'random_forest':\n",
    "            #model =  \n",
    "            break\n",
    "            \n",
    "        model.fit(X_train, Y_train)\n",
    "        preds = model.predict(X_test)\n",
    "        #scores = model.predict_proba(X_test)[:, 1]\n",
    "        accuracy = metrics.r2_score(Y_test, preds)\n",
    "        mae = metrics.mean_absolute_error(Y_test, preds)\n",
    "        mse = metrics.mean_squared_error(Y_test, preds)\n",
    "        \n",
    "        accuracy_scores.append(accuracy)\n",
    "        mae_scores.append(mae)\n",
    "        mse_scores.append(mse)\n",
    "        \n",
    "    mean_accuracy = np.mean(accuracy_scores)\n",
    "    std_accuracy = np.sqrt(np.var(accuracy_scores, ddof=1))\n",
    "    mean_mae = np.mean(mae_scores)\n",
    "    std_mae = np.sqrt(np.var(mae_scores, ddof=1))\n",
    "    mean_mse = np.mean(mse_scores)\n",
    "    std_mse = np.sqrt(np.var(mse_scores, ddof=1))\n",
    "        \n",
    "    return mean_accuracy, std_accuracy, mean_mae, std_mae, mean_mse, std_mse"
   ]
  },
  {
   "cell_type": "code",
   "execution_count": 71,
   "metadata": {},
   "outputs": [],
   "source": [
    "# test/train split\n",
    "train_pct = 0.8\n",
    "data_train = {}\n",
    "data_test = {}\n",
    "\n",
    "for dataset in feature_selection_method:\n",
    "    data_train[dataset], data_test[dataset] = trainTest(data[dataset], train_pct)"
   ]
  },
  {
   "cell_type": "code",
   "execution_count": 75,
   "metadata": {},
   "outputs": [],
   "source": [
    "# empirically test sample sizes\n",
    "samplesizes = [50, 100, 200, 500, 1000, 2000, 4000, 8000, 12000, 16000, 20000]\n",
    "nbootstraps = 20\n",
    "\n",
    "# populate for models to be tested\n",
    "models_list = ['gradient_boost']  # ADD MORE MODELS\n",
    "\n",
    "# initialize dictionary \n",
    "results = {} \n",
    "# iterating through the elements of list\n",
    "for dataset in feature_selection_method:\n",
    "    results[dataset] = {}\n",
    "    for model in models_list: \n",
    "        results[dataset][model] = {}\n",
    "    \n",
    "for dataset in feature_selection_method:\n",
    "    for model in models_list:\n",
    "        for samplesize in samplesizes:\n",
    "            results[dataset][model][samplesize] = modBootstrapper(data_train[dataset], data_test[dataset], nbootstraps, samplesize, model)"
   ]
  },
  {
   "cell_type": "code",
   "execution_count": 76,
   "metadata": {},
   "outputs": [],
   "source": [
    "eval_metrics_list = ['accuracy', 'mae', 'mse']\n",
    "\n",
    "# one dataset to test\n",
    "dataset = 'PCmd'  # GENERALIZE FOR ALL DATASETS\n",
    "\n",
    "results_df = {}\n",
    "\n",
    "for dataset in feature_selection_method:\n",
    "    df = pd.DataFrame(results[dataset])\n",
    "\n",
    "    results_df[dataset] = pd.DataFrame(df[models_list[0]].tolist(), index=df.index, \n",
    "                                       columns=['{}_mean_{}'.format(models_list[0], eval_metrics_list[0]), \n",
    "                                                '{}_std_{}'.format(models_list[0], eval_metrics_list[0]), \n",
    "                                                '{}_mean_{}'.format(models_list[0], eval_metrics_list[1]), \n",
    "                                                '{}_std_{}'.format(models_list[0], eval_metrics_list[1]), \n",
    "                                                '{}_mean_{}'.format(models_list[0], eval_metrics_list[2]), \n",
    "                                                '{}_std_{}'.format(models_list[0], eval_metrics_list[2])])\n",
    "\n",
    "    for model in models_list[1:]:\n",
    "        results_df[dataset] = pd.concat([results_df, \n",
    "                                    pd.DataFrame(df[model].tolist(), \n",
    "                                                 index=df.index, \n",
    "                                                 columns=['{}_mean_{}'.format(model, eval_metrics_list[0]), \n",
    "                                                          '{}_std_{}'.format(model, eval_metrics_list[0]), \n",
    "                                                          '{}_mean_{}'.format(model, eval_metrics_list[1]),\n",
    "                                                          '{}_std_{}'.format(model, eval_metrics_list[1]),\n",
    "                                                          '{}_mean_{}'.format(model, eval_metrics_list[2]),\n",
    "                                                          '{}_std_{}'.format(model, eval_metrics_list[2])], \n",
    "                                                 axis=1)])"
   ]
  },
  {
   "cell_type": "code",
   "execution_count": 77,
   "metadata": {},
   "outputs": [
    {
     "data": {
      "text/plain": [
       "<matplotlib.legend.Legend at 0x1d7ac434c40>"
      ]
     },
     "execution_count": 77,
     "metadata": {},
     "output_type": "execute_result"
    },
    {
     "data": {
      "image/png": "[encoded data removed]",
      "text/plain": [
       "<Figure size 1152x648 with 1 Axes>"
      ]
     },
     "metadata": {
      "needs_background": "light"
     },
     "output_type": "display_data"
    }
   ],
   "source": [
    "# Generate a plot\n",
    "fig = plt.figure(figsize=(16, 9))\n",
    "colors_list = ['b', 'g', 'r', 'c', 'm', 'y']\n",
    "\n",
    "eval_metric = 'accuracy'  # GENERALIZE TO LIST OF EVAL_METRICS_LIST\n",
    "\n",
    "for i, model in enumerate(models_list):\n",
    "    plt.plot(results_df[dataset]['{}_mean_{}'.format(model, eval_metric)], label='{}_mean_{}'.format(model, eval_metric), color=colors_list[i])\n",
    "    plt.plot(results_df[dataset]['{}_mean_{}'.format(model, eval_metric)] - results_df[dataset]['{}_std_{}'.format(model, eval_metric)], 'k+', label='{}-1std_{}'.format(model, eval_metric), color=colors_list[i])\n",
    "    plt.plot(results_df[dataset]['{}_mean_{}'.format(model, eval_metric)] + results_df[dataset]['{}_std_{}'.format(model, eval_metric)], 'k--', label='{}+1std_{}'.format(model, eval_metric), color=colors_list[i])\n",
    "\n",
    "plt.title('Learning curve for {}'.format(dataset))\n",
    "plt.xlabel('Sample sizes')\n",
    "plt.ylabel(eval_metric)\n",
    "plt.xscale('log', base=2)\n",
    "plt.legend()"
   ]
  },
  {
   "cell_type": "code",
   "execution_count": null,
   "metadata": {},
   "outputs": [],
   "source": []
  }
 ],
 "metadata": {
  "kernelspec": {
   "display_name": "Python 3",
   "language": "python",
   "name": "python3"
  },
  "language_info": {
   "codemirror_mode": {
    "name": "ipython",
    "version": 3
   },
   "file_extension": ".py",
   "mimetype": "text/x-python",
   "name": "python",
   "nbconvert_exporter": "python",
   "pygments_lexer": "ipython3",
   "version": "3.8.3"
  }
 },
 "nbformat": 4,
 "nbformat_minor": 4
}
