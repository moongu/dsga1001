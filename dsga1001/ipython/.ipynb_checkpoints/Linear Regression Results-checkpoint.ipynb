{
 "cells": [
  {
   "cell_type": "code",
   "execution_count": 1,
   "metadata": {},
   "outputs": [],
   "source": [
    "# all imports\n",
    "import pandas as pd\n",
    "import numpy as np\n",
    "\n",
    "from sklearn.model_selection import train_test_split, GridSearchCV\n",
    "# TODO: import additional sklearn dependencies here\n",
    "\n",
    "import matplotlib.pyplot as plt\n",
    "%matplotlib inline\n",
    "from sklearn.model_selection import train_test_split\n",
    "\n",
    "# notebook settings\n",
    "from IPython.display import display\n",
    "pd.options.display.max_columns = None\n",
    "\n",
    "# Annoying damn warnings\n",
    "import warnings\n",
    "warnings.filterwarnings('ignore')"
   ]
  },
  {
   "cell_type": "code",
   "execution_count": 2,
   "metadata": {},
   "outputs": [],
   "source": [
    "from scipy.stats import loguniform\n",
    "from sklearn.linear_model import LinearRegression\n",
    "from sklearn.linear_model import Ridge\n",
    "from sklearn.linear_model import RidgeCV\n",
    "from sklearn.linear_model import Lasso\n",
    "from sklearn.linear_model import ElasticNet\n",
    "from sklearn.preprocessing import StandardScaler\n",
    "from sklearn.tree import DecisionTreeRegressor"
   ]
  },
  {
   "cell_type": "markdown",
   "metadata": {},
   "source": [
    "## Read in Train/Test split"
   ]
  },
  {
   "cell_type": "code",
   "execution_count": 70,
   "metadata": {},
   "outputs": [],
   "source": [
    "# X_train = pd.read_pickle('X_train.pkl')\n",
    "# X_test = pd.read_pickle('X_test.pkl')\n",
    "# y_train = pd.read_pickle('y_train.pkl')\n",
    "# y_test = pd.read_pickle('y_test.pkl')\n",
    "above = '../../../'\n",
    "data = pd.read_pickle(above + 'post_eda.pkl')\n",
    "data = data['s_borough', 's_zipcode', 's_building_class_at_sale', 'v_stories',\n",
    "       'v_fullval', 'd_pop_25_years_and_over', 'd_high_school_graduate',\n",
    "       'd_high_school_graduate_pct', 'd_some_college_no_degree_pct',\n",
    "       'd_associates_degree_pct', 'd_bachelors_degree',\n",
    "       'd_bachelors_degree_pct', 'd_graduate_or_professional_degree',\n",
    "       'd_graduate_or_professional_degree_pct', 'd_white_population',\n",
    "       'd_american_indian_and_alaska_native_population',\n",
    "       'd_american_indian_and_alaska_native_population_pct',\n",
    "       'd_total_housing_units', 'd_no_bedroom_units',\n",
    "       'd_no_bedroom_units_pct', 'd_1_bedroom_units',\n",
    "       'd_1_bedroom_units_pct', 'd_2_bedroom_units', 'd_3_bedroom_units',\n",
    "       'd_3_bedroom_units_pct', 'd_4_bedroom_units',\n",
    "       'd_4_bedroom_units_pct', 'd_5_bedroom_units_pct',\n",
    "       'd_units_from_150000_to_199999_pct',\n",
    "       'd_units_from_200000_to_299999_pct',\n",
    "       'd_units_from_300000_to_499999',\n",
    "       'd_units_from_300000_to_499999_pct',\n",
    "       'd_units_from_500000_to_999999',\n",
    "       'd_units_from_500000_to_999999_pct', 'd_units_1000000_or_more',\n",
    "       'd_units_1000000_or_more_pct', 'd_median_housing_price',\n",
    "       'd_total_households', 'd_households_less_than_10000',\n",
    "       'd_households_from_25000_to_34999_pct',\n",
    "       'd_households_from_35000_to_49999_pct',\n",
    "       'd_households_from_50000_to_74999_pct',\n",
    "       'd_households_from_75000_to_99999_pct',\n",
    "       'd_households_from_100000_to_149999',\n",
    "       'd_households_from_150000_to_199999',\n",
    "       'd_households_200000_or_more', 'd_households_200000_or_more_pct',\n",
    "       'd_mean_household_income_dollars', 'a_count', 'c_count', 's_sale_price']"
   ]
  },
  {
   "cell_type": "code",
   "execution_count": null,
   "metadata": {},
   "outputs": [],
   "source": []
  },
  {
   "cell_type": "markdown",
   "metadata": {},
   "source": [
    "## Linear Regression:\n",
    "**Note that there are no hyperparameters to tune for simple Linear Regression**"
   ]
  },
  {
   "cell_type": "code",
   "execution_count": 71,
   "metadata": {},
   "outputs": [
    {
     "data": {
      "text/plain": [
       "0.7126466204085997"
      ]
     },
     "execution_count": 71,
     "metadata": {},
     "output_type": "execute_result"
    }
   ],
   "source": [
    "# Call linear regression and report score\n",
    "reg = LinearRegression()\n",
    "reg.fit(X_train, y_train)\n",
    "reg.score(X_test, y_test)"
   ]
  },
  {
   "cell_type": "markdown",
   "metadata": {},
   "source": [
    "## Ridge Regression:\n",
    "**Hyperparameters: Regularization Strength (alpha)**"
   ]
  },
  {
   "cell_type": "code",
   "execution_count": 72,
   "metadata": {},
   "outputs": [
    {
     "data": {
      "text/plain": [
       "0.7416532596726441"
      ]
     },
     "execution_count": 72,
     "metadata": {},
     "output_type": "execute_result"
    }
   ],
   "source": [
    "# Ridge regression with default parameters\n",
    "ridge = Ridge()\n",
    "ridge.fit(X_train, y_train)\n",
    "ridge.score(X_test, y_test)"
   ]
  },
  {
   "cell_type": "code",
   "execution_count": 73,
   "metadata": {},
   "outputs": [
    {
     "data": {
      "image/png": "[encoded data removed]",
      "text/plain": [
       "<Figure size 432x288 with 1 Axes>"
      ]
     },
     "metadata": {
      "needs_background": "light"
     },
     "output_type": "display_data"
    }
   ],
   "source": [
    "# Ridge regression hyperparameter search\n",
    "ridge_alphas = np.linspace(0.001, 600, 20)\n",
    "\n",
    "ridge_alph = []\n",
    "ridge_scores = []\n",
    "for i in ridge_alphas:\n",
    "    ridge2 = Ridge(alpha = i)\n",
    "    ridge2.fit(X_train, y_train)\n",
    "    \n",
    "    ridge_alph.append(i)\n",
    "    ridge_scores.append(ridge2.score(X_test, y_test))\n",
    "    \n",
    "plt.plot(ridge_alph, ridge_scores)\n",
    "plt.xlabel('Regularization Strength')\n",
    "plt.ylabel('Score')\n",
    "plt.show()"
   ]
  },
  {
   "cell_type": "markdown",
   "metadata": {},
   "source": [
    "## Lasso Regression:\n",
    "**Hyperparameters: L1 Multiplier (alpha)**"
   ]
  },
  {
   "cell_type": "code",
   "execution_count": 74,
   "metadata": {},
   "outputs": [
    {
     "data": {
      "text/plain": [
       "0.7306007456027275"
      ]
     },
     "execution_count": 74,
     "metadata": {},
     "output_type": "execute_result"
    }
   ],
   "source": [
    "# Lasso regression\n",
    "lasso = Lasso()\n",
    "lasso.fit(X_train, y_train)\n",
    "lasso.score(X_test, y_test)"
   ]
  },
  {
   "cell_type": "code",
   "execution_count": 75,
   "metadata": {},
   "outputs": [
    {
     "data": {
      "image/png": "[encoded data removed]",
      "text/plain": [
       "<Figure size 432x288 with 1 Axes>"
      ]
     },
     "metadata": {
      "needs_background": "light"
     },
     "output_type": "display_data"
    }
   ],
   "source": [
    "# Lasso regression hyperparameter search\n",
    "lasso_alphas = np.linspace(0.001, 400000, 10)\n",
    "\n",
    "lasso_alph = []\n",
    "lasso_scores = []\n",
    "for i in lasso_alphas:\n",
    "    lasso2 = Lasso(alpha = i)\n",
    "    lasso2.fit(X_train, y_train)\n",
    "    \n",
    "    lasso_alph.append(i)\n",
    "    lasso_scores.append(lasso2.score(X_test, y_test))\n",
    "    \n",
    "plt.plot(lasso_alph, lasso_scores)\n",
    "plt.xlabel('L1 multiplier')\n",
    "plt.ylabel('Score')\n",
    "plt.show()"
   ]
  },
  {
   "cell_type": "markdown",
   "metadata": {},
   "source": [
    "## Elastic Net Regression:\n",
    "**Hyperparameters: Penalty Multiplier (alpha)**"
   ]
  },
  {
   "cell_type": "code",
   "execution_count": 76,
   "metadata": {},
   "outputs": [
    {
     "data": {
      "text/plain": [
       "0.8982904726246179"
      ]
     },
     "execution_count": 76,
     "metadata": {},
     "output_type": "execute_result"
    }
   ],
   "source": [
    "# Elastic Net regression\n",
    "elasticnet = ElasticNet()\n",
    "elasticnet.fit(X_train, y_train)\n",
    "elasticnet.score(X_test, y_test)"
   ]
  },
  {
   "cell_type": "code",
   "execution_count": 79,
   "metadata": {},
   "outputs": [
    {
     "data": {
      "image/png": "[encoded data removed]",
      "text/plain": [
       "<Figure size 432x288 with 1 Axes>"
      ]
     },
     "metadata": {
      "needs_background": "light"
     },
     "output_type": "display_data"
    }
   ],
   "source": [
    "# Elastic net regression hyperparameter search\n",
    "elastic_alphas = np.linspace(0.001, 4, 40)\n",
    "\n",
    "elastic_alph = []\n",
    "elastic_scores = []\n",
    "for i in elastic_alphas:\n",
    "    elastic2 = ElasticNet(alpha = i)\n",
    "    elastic2.fit(X_train, y_train)\n",
    "    \n",
    "    elastic_alph.append(i)\n",
    "    elastic_scores.append(elastic2.score(X_test, y_test))\n",
    "    \n",
    "plt.plot(elastic_alph, elastic_scores)\n",
    "plt.xlabel('Penalty multiplier')\n",
    "plt.ylabel('Score')\n",
    "plt.show()"
   ]
  },
  {
   "cell_type": "markdown",
   "metadata": {},
   "source": [
    "## Miscellaneous\n",
    "**Decision tree default score because why not**"
   ]
  },
  {
   "cell_type": "code",
   "execution_count": 78,
   "metadata": {},
   "outputs": [
    {
     "data": {
      "text/plain": [
       "-1.221981615096274"
      ]
     },
     "execution_count": 78,
     "metadata": {},
     "output_type": "execute_result"
    }
   ],
   "source": [
    "# Call Decision Tree Regressor and report score\n",
    "dtr2 = DecisionTreeRegressor()\n",
    "dtr2 = dtr2.fit(X_train, y_train)\n",
    "dtr2.score(X_test, y_test)"
   ]
  }
 ],
 "metadata": {
  "kernelspec": {
   "display_name": "Python 3",
   "language": "python",
   "name": "python3"
  },
  "language_info": {
   "codemirror_mode": {
    "name": "ipython",
    "version": 3
   },
   "file_extension": ".py",
   "mimetype": "text/x-python",
   "name": "python",
   "nbconvert_exporter": "python",
   "pygments_lexer": "ipython3",
   "version": "3.8.3"
  }
 },
 "nbformat": 4,
 "nbformat_minor": 4
}
