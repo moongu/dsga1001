{
 "cells": [
  {
   "cell_type": "markdown",
   "metadata": {},
   "source": [
    "# XGBoost\n",
    "Following this notebook: https://www.kaggle.com/shreayan98c/boston-house-price-prediction#SVM-Regressor"
   ]
  },
  {
   "cell_type": "code",
   "execution_count": null,
   "metadata": {},
   "outputs": [],
   "source": [
    "from numpy import loadtxt\n",
    "import pandas as pd\n",
    "import xgboost as xgb\n",
    "import numpy as np\n",
    "from sklearn import metrics\n",
    "from sklearn.model_selection import train_test_split\n",
    "from sklearn.metrics import accuracy_score\n",
    "from sklearn.preprocessing import StandardScaler\n",
    "# Import XGBoost Regressor\n",
    "from xgboost import XGBRegressor\n",
    "import matplotlib.pyplot as plt\n",
    "import seaborn as sns\n",
    "sns.set_style(\"whitegrid\")\n",
    "sns.set_context(\"poster\")\n",
    "from matplotlib import rcParams\n",
    "\n",
    "#load data\n",
    "above = '../../../'\n",
    "# val_file = above + 'assessment_og.pkl'\n",
    "# valuation = pd.read_pickle(val_file)\n",
    "df_file = above + 'post_eda.pkl'\n",
    "data = pd.read_pickle(df_file)\n",
    "data.drop([\"s_total_units\"], axis =1, inplace=True)\n",
    "\n",
    "# The segement below is the top90 most important features as determined by SelectKBest and DecisionTreeRegressor\n",
    "# data = data[['a_count', 'c_count', 'd_3_bedroom_units_pct',\n",
    "#        'd_9th_to_12th_grade_no_diploma_pct',\n",
    "#        'd_households_200000_or_more',\n",
    "#        'd_households_from_35000_to_49999_pct', 'd_total_households',\n",
    "#        's_building_class_at_sale', 's_zipcode', 'v_fullval', 'v_stories',\n",
    "#        'd_1_bedroom_units', 'd_1_bedroom_units_pct', 'd_2_bedroom_units',\n",
    "#        'd_4_bedroom_units_pct', 'd_5_bedroom_units_pct',\n",
    "#        'd_american_indian_and_alaska_native_population',\n",
    "#        'd_american_indian_and_alaska_native_population_pct',\n",
    "#        'd_associates_degree_pct', 'd_bachelors_degree',\n",
    "#        'd_bachelors_degree_pct', 'd_graduate_or_professional_degree',\n",
    "#        'd_graduate_or_professional_degree_pct',\n",
    "#        'd_high_school_graduate_pct', 'd_households_200000_or_more_pct',\n",
    "#        'd_households_from_10000_to_14999',\n",
    "#        'd_households_from_150000_to_199999',\n",
    "#        'd_households_from_25000_to_34999_pct',\n",
    "#        'd_households_from_50000_to_74999_pct',\n",
    "#        'd_households_from_75000_to_99999_pct',\n",
    "#        'd_households_less_than_10000', 'd_mean_household_income_dollars',\n",
    "#        'd_median_household_income_dollars', 'd_median_housing_price',\n",
    "#        'd_no_bedroom_units', 'd_no_bedroom_units_pct',\n",
    "#        'd_some_college_no_degree_pct', 'd_total_housing_units',\n",
    "#        'd_units_1000000_or_more', 'd_units_1000000_or_more_pct',\n",
    "#        'd_units_from_100000_to_149999',\n",
    "#        'd_units_from_100000_to_149999_pct',\n",
    "#        'd_units_from_150000_to_199999',\n",
    "#        'd_units_from_150000_to_199999_pct',\n",
    "#        'd_units_from_200000_to_299999',\n",
    "#        'd_units_from_200000_to_299999_pct',\n",
    "#        'd_units_from_300000_to_499999',\n",
    "#        'd_units_from_300000_to_499999_pct', 'd_white_population',\n",
    "#        's_borough', 'd_5_bedroom_units',\n",
    "#        'd_9th_to_12th_grade_no_diploma_pct',\n",
    "#        'd_black_or_african_american_population',\n",
    "#        'd_households_from_100000_to_149999_pct',\n",
    "#        'd_households_from_150000_to_199999_pct',\n",
    "#        'd_households_from_25000_to_34999', 'd_less_than_9th_grade',\n",
    "#        'd_native_hawaiian_and_other_pacific_islander_population',\n",
    "#        'd_native_hawaiian_and_other_pacific_islander_population_pct',\n",
    "#        'd_units_from_50000_to_99999', 'd_units_less_than_50000_pct',\n",
    "#        'd_white_population_pct', 'imputed_land_area',\n",
    "#        'm_10yr_treasury_constant_maturity_rate',\n",
    "#        'm_10yr_treasury_constant_maturity_rate_%chg',\n",
    "#        'm_30yr_fixed_rate_mortgage_avg_in_us',\n",
    "#        'm_30yr_fixed_rate_mortgage_avg_in_us_%chg',\n",
    "#        'm_case_shiller_ny_home_price_index',\n",
    "#        'm_case_shiller_ny_home_price_index_%chg',\n",
    "#        'm_case_shiller_us_national_home_price_index',\n",
    "#        'm_case_shiller_us_national_home_price_index_%chg',\n",
    "#        'm_consumer_price_index', 'm_consumer_price_index_%chg',\n",
    "#        'm_core_cpi', 'm_core_cpi_%chg', 'm_effective_fed_funds_rate',\n",
    "#        'm_effective_fed_funds_rate_%chg', 'm_inflation_rate',\n",
    "#        'm_inflation_rate_%chg', 'm_population_level',\n",
    "#        'm_population_level_%chg', 'm_real_gross_domestic_product_%chg',\n",
    "#        'm_sp500_index', 'm_sp500_index_%chg', 'm_unemployment_rate',\n",
    "#        'm_unemployment_rate_%chg', 'm_us_real_median_household_income',\n",
    "#        'm_us_real_median_household_income_%chg', 's_year_built', 'v_nta', 's_sale_price']]\n",
    "\n",
    "scaler = StandardScaler()\n",
    "X = data.drop('s_sale_price', axis=1)\n",
    "X = scaler.fit_transform(X)\n",
    "y = data['s_sale_price']\n",
    "\n",
    "# split data into train and test sets\n",
    "seed = 1002\n",
    "test_size = 0.33\n",
    "X_train, X_test, y_train, y_test = train_test_split(X, y, test_size=test_size, random_state=seed)\n",
    "\n",
    "#Create a XGBoost Regressor\n",
    "reg = XGBRegressor()\n",
    "\n",
    "# fit model no training data\n",
    "#model = xgb.XGBRegressor()#objective ='reg:squarederror') #, colsample_bytree = 0.3, learning_rate = 0.1,\n",
    "                #max_depth = 5, alpha = 10, n_estimators = 10)\n",
    "reg.fit(X_train, y_train)\n",
    "# Model prediction on train data\n",
    "y_pred = reg.predict(X_train)"
   ]
  },
  {
   "cell_type": "code",
   "execution_count": null,
   "metadata": {},
   "outputs": [],
   "source": [
    "# Model Evaluation\n",
    "print('R^2:',metrics.r2_score(y_train, y_pred))\n",
    "print('Adjusted R^2:',1 - (1-metrics.r2_score(y_train, y_pred))*(len(y_train)-1)/(len(y_train)-X_train.shape[1]-1))\n",
    "print('MAE:',metrics.mean_absolute_error(y_train, y_pred))\n",
    "print('MSE:',metrics.mean_squared_error(y_train, y_pred))\n",
    "print('RMSE:',np.sqrt(metrics.mean_squared_error(y_train, y_pred)))"
   ]
  },
  {
   "cell_type": "code",
   "execution_count": null,
   "metadata": {},
   "outputs": [],
   "source": [
    "# Visualizing the differences between actual prices and predicted values\n",
    "plt.figure(figsize=(12,9))\n",
    "plt.scatter(y_train, y_pred)\n",
    "plt.xlabel(\"Prices\")\n",
    "plt.ylabel(\"Predicted prices\")\n",
    "plt.title(\"Prices vs Predicted prices\")\n",
    "plt.show()"
   ]
  },
  {
   "cell_type": "code",
   "execution_count": null,
   "metadata": {},
   "outputs": [],
   "source": [
    "#Predicting Test data with the model\n",
    "y_test_pred = reg.predict(X_test)"
   ]
  },
  {
   "cell_type": "code",
   "execution_count": null,
   "metadata": {},
   "outputs": [],
   "source": [
    "acc_xgb = metrics.r2_score(y_test, y_test_pred)\n",
    "print('R^2:', acc_xgb)\n",
    "print('Adjusted R^2:',1 - (1-metrics.r2_score(y_test, y_test_pred))*(len(y_test)-1)/(len(y_test)-X_test.shape[1]-1))\n",
    "print('MAE:',metrics.mean_absolute_error(y_test, y_test_pred))\n",
    "print('MSE:',metrics.mean_squared_error(y_test, y_test_pred))\n",
    "print('RMSE:',np.sqrt(metrics.mean_squared_error(y_test, y_test_pred)))"
   ]
  },
  {
   "cell_type": "code",
   "execution_count": null,
   "metadata": {},
   "outputs": [],
   "source": [
    "# Visualizing the differences between actual prices and predicted values\n",
    "plt.figure(figsize=(12,9))\n",
    "plt.scatter(y_test, y_test_pred)\n",
    "plt.xlabel(\"Prices\")\n",
    "plt.ylabel(\"Predicted prices\")\n",
    "plt.title(\"Prices vs Predicted prices\")\n",
    "plt.show()"
   ]
  },
  {
   "cell_type": "code",
   "execution_count": null,
   "metadata": {},
   "outputs": [],
   "source": [
    "# Checking residuals\n",
    "plt.figure(figsize=(12,9))\n",
    "plt.scatter(y_pred,y_train-y_pred)\n",
    "plt.title(\"Fitted vs Residuals\")\n",
    "plt.xlabel(\"Fitted Value\")\n",
    "plt.ylabel(\"Residuals\")\n",
    "plt.show()"
   ]
  },
  {
   "cell_type": "code",
   "execution_count": null,
   "metadata": {},
   "outputs": [],
   "source": []
  }
 ],
 "metadata": {
  "kernelspec": {
   "display_name": "Python 3",
   "language": "python",
   "name": "python3"
  },
  "language_info": {
   "codemirror_mode": {
    "name": "ipython",
    "version": 3
   },
   "file_extension": ".py",
   "mimetype": "text/x-python",
   "name": "python",
   "nbconvert_exporter": "python",
   "pygments_lexer": "ipython3",
   "version": "3.8.3"
  }
 },
 "nbformat": 4,
 "nbformat_minor": 4
}
