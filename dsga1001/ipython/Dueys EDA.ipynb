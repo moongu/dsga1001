{
 "cells": [
  {
   "cell_type": "code",
   "execution_count": 197,
   "metadata": {},
   "outputs": [],
   "source": [
    "import pandas as pd\n",
    "import numpy as np\n",
    "import matplotlib.pyplot as plt\n"
   ]
  },
  {
   "cell_type": "code",
   "execution_count": 198,
   "metadata": {},
   "outputs": [],
   "source": [
    "#pd.set_option('display.max_rows', None)\n",
    "pd.set_option('display.max_columns', None)\n",
    "#pd.reset_option(\"all\")\n",
    "above = '../../../'"
   ]
  },
  {
   "cell_type": "code",
   "execution_count": 199,
   "metadata": {},
   "outputs": [],
   "source": [
    "# data = pd.read_pickle(above + 'post_eda.pkl')\n",
    "data = pd.read_pickle(above + 'd_PCmd.pkl')"
   ]
  },
  {
   "cell_type": "code",
   "execution_count": 200,
   "metadata": {},
   "outputs": [],
   "source": [
    "# del data['s_bbl']\n",
    "# del data['s_sale_date']\n",
    "# del data['v_longitude']\n",
    "# del data['v_latitude']\n",
    "# data = data[data['s_total_units']<4]"
   ]
  },
  {
   "cell_type": "code",
   "execution_count": 201,
   "metadata": {},
   "outputs": [],
   "source": [
    "data2 = data.copy()"
   ]
  },
  {
   "cell_type": "code",
   "execution_count": 204,
   "metadata": {},
   "outputs": [],
   "source": [
    "#data.drop('s_bbl', axis=1,inplace = True)\n",
    "#data.drop('s_total_units', axis=1,inplace = True)"
   ]
  },
  {
   "cell_type": "code",
   "execution_count": 205,
   "metadata": {},
   "outputs": [
    {
     "data": {
      "image/png": "[encoded data removed]",
      "text/plain": [
       "<Figure size 432x288 with 1 Axes>"
      ]
     },
     "metadata": {
      "needs_background": "light"
     },
     "output_type": "display_data"
    }
   ],
   "source": [
    "# Sales price histogram\n",
    "plt.hist(data['s_sale_price'], bins=80, range=(0, np.percentile(data['s_sale_price'],99)))\n",
    "plt.title('Property sales by sale price')\n",
    "plt.xlabel('Sale price in $millions')\n",
    "plt.ylabel('Number of properties sold')\n",
    "plt.show()"
   ]
  },
  {
   "cell_type": "code",
   "execution_count": 206,
   "metadata": {
    "scrolled": true
   },
   "outputs": [
    {
     "ename": "KeyError",
     "evalue": "'s_total_units'",
     "output_type": "error",
     "traceback": [
      "\u001b[0;31m---------------------------------------------------------------------------\u001b[0m",
      "\u001b[0;31mKeyError\u001b[0m                                  Traceback (most recent call last)",
      "\u001b[0;32m~/anaconda3/envs/myenv/lib/python3.8/site-packages/pandas/core/indexes/base.py\u001b[0m in \u001b[0;36mget_loc\u001b[0;34m(self, key, method, tolerance)\u001b[0m\n\u001b[1;32m   2894\u001b[0m             \u001b[0;32mtry\u001b[0m\u001b[0;34m:\u001b[0m\u001b[0;34m\u001b[0m\u001b[0;34m\u001b[0m\u001b[0m\n\u001b[0;32m-> 2895\u001b[0;31m                 \u001b[0;32mreturn\u001b[0m \u001b[0mself\u001b[0m\u001b[0;34m.\u001b[0m\u001b[0m_engine\u001b[0m\u001b[0;34m.\u001b[0m\u001b[0mget_loc\u001b[0m\u001b[0;34m(\u001b[0m\u001b[0mcasted_key\u001b[0m\u001b[0;34m)\u001b[0m\u001b[0;34m\u001b[0m\u001b[0;34m\u001b[0m\u001b[0m\n\u001b[0m\u001b[1;32m   2896\u001b[0m             \u001b[0;32mexcept\u001b[0m \u001b[0mKeyError\u001b[0m \u001b[0;32mas\u001b[0m \u001b[0merr\u001b[0m\u001b[0;34m:\u001b[0m\u001b[0;34m\u001b[0m\u001b[0;34m\u001b[0m\u001b[0m\n",
      "\u001b[0;32mpandas/_libs/index.pyx\u001b[0m in \u001b[0;36mpandas._libs.index.IndexEngine.get_loc\u001b[0;34m()\u001b[0m\n",
      "\u001b[0;32mpandas/_libs/index.pyx\u001b[0m in \u001b[0;36mpandas._libs.index.IndexEngine.get_loc\u001b[0;34m()\u001b[0m\n",
      "\u001b[0;32mpandas/_libs/hashtable_class_helper.pxi\u001b[0m in \u001b[0;36mpandas._libs.hashtable.PyObjectHashTable.get_item\u001b[0;34m()\u001b[0m\n",
      "\u001b[0;32mpandas/_libs/hashtable_class_helper.pxi\u001b[0m in \u001b[0;36mpandas._libs.hashtable.PyObjectHashTable.get_item\u001b[0;34m()\u001b[0m\n",
      "\u001b[0;31mKeyError\u001b[0m: 's_total_units'",
      "\nThe above exception was the direct cause of the following exception:\n",
      "\u001b[0;31mKeyError\u001b[0m                                  Traceback (most recent call last)",
      "\u001b[0;32m<ipython-input-206-8a74df682039>\u001b[0m in \u001b[0;36m<module>\u001b[0;34m\u001b[0m\n\u001b[0;32m----> 1\u001b[0;31m \u001b[0mplt\u001b[0m\u001b[0;34m.\u001b[0m\u001b[0mscatter\u001b[0m\u001b[0;34m(\u001b[0m\u001b[0mdata\u001b[0m\u001b[0;34m[\u001b[0m\u001b[0;34m's_total_units'\u001b[0m\u001b[0;34m]\u001b[0m\u001b[0;34m,\u001b[0m \u001b[0mdata\u001b[0m\u001b[0;34m[\u001b[0m\u001b[0;34m's_sale_price'\u001b[0m\u001b[0;34m]\u001b[0m\u001b[0;34m,\u001b[0m \u001b[0ms\u001b[0m\u001b[0;34m=\u001b[0m\u001b[0;36m3\u001b[0m\u001b[0;34m)\u001b[0m\u001b[0;34m\u001b[0m\u001b[0;34m\u001b[0m\u001b[0m\n\u001b[0m\u001b[1;32m      2\u001b[0m \u001b[0mplt\u001b[0m\u001b[0;34m.\u001b[0m\u001b[0mxlabel\u001b[0m\u001b[0;34m(\u001b[0m\u001b[0;34m'Number of units in property'\u001b[0m\u001b[0;34m)\u001b[0m\u001b[0;34m\u001b[0m\u001b[0;34m\u001b[0m\u001b[0m\n\u001b[1;32m      3\u001b[0m \u001b[0mplt\u001b[0m\u001b[0;34m.\u001b[0m\u001b[0mylabel\u001b[0m\u001b[0;34m(\u001b[0m\u001b[0;34m'Property Sale Price'\u001b[0m\u001b[0;34m)\u001b[0m\u001b[0;34m\u001b[0m\u001b[0;34m\u001b[0m\u001b[0m\n\u001b[1;32m      4\u001b[0m \u001b[0mplt\u001b[0m\u001b[0;34m.\u001b[0m\u001b[0mtitle\u001b[0m\u001b[0;34m(\u001b[0m\u001b[0;34m'Property Sale Price vs Units in Property'\u001b[0m\u001b[0;34m)\u001b[0m\u001b[0;34m\u001b[0m\u001b[0;34m\u001b[0m\u001b[0m\n\u001b[1;32m      5\u001b[0m \u001b[0mplt\u001b[0m\u001b[0;34m.\u001b[0m\u001b[0mshow\u001b[0m\u001b[0;34m(\u001b[0m\u001b[0;34m)\u001b[0m\u001b[0;34m\u001b[0m\u001b[0;34m\u001b[0m\u001b[0m\n",
      "\u001b[0;32m~/anaconda3/envs/myenv/lib/python3.8/site-packages/pandas/core/frame.py\u001b[0m in \u001b[0;36m__getitem__\u001b[0;34m(self, key)\u001b[0m\n\u001b[1;32m   2900\u001b[0m             \u001b[0;32mif\u001b[0m \u001b[0mself\u001b[0m\u001b[0;34m.\u001b[0m\u001b[0mcolumns\u001b[0m\u001b[0;34m.\u001b[0m\u001b[0mnlevels\u001b[0m \u001b[0;34m>\u001b[0m \u001b[0;36m1\u001b[0m\u001b[0;34m:\u001b[0m\u001b[0;34m\u001b[0m\u001b[0;34m\u001b[0m\u001b[0m\n\u001b[1;32m   2901\u001b[0m                 \u001b[0;32mreturn\u001b[0m \u001b[0mself\u001b[0m\u001b[0;34m.\u001b[0m\u001b[0m_getitem_multilevel\u001b[0m\u001b[0;34m(\u001b[0m\u001b[0mkey\u001b[0m\u001b[0;34m)\u001b[0m\u001b[0;34m\u001b[0m\u001b[0;34m\u001b[0m\u001b[0m\n\u001b[0;32m-> 2902\u001b[0;31m             \u001b[0mindexer\u001b[0m \u001b[0;34m=\u001b[0m \u001b[0mself\u001b[0m\u001b[0;34m.\u001b[0m\u001b[0mcolumns\u001b[0m\u001b[0;34m.\u001b[0m\u001b[0mget_loc\u001b[0m\u001b[0;34m(\u001b[0m\u001b[0mkey\u001b[0m\u001b[0;34m)\u001b[0m\u001b[0;34m\u001b[0m\u001b[0;34m\u001b[0m\u001b[0m\n\u001b[0m\u001b[1;32m   2903\u001b[0m             \u001b[0;32mif\u001b[0m \u001b[0mis_integer\u001b[0m\u001b[0;34m(\u001b[0m\u001b[0mindexer\u001b[0m\u001b[0;34m)\u001b[0m\u001b[0;34m:\u001b[0m\u001b[0;34m\u001b[0m\u001b[0;34m\u001b[0m\u001b[0m\n\u001b[1;32m   2904\u001b[0m                 \u001b[0mindexer\u001b[0m \u001b[0;34m=\u001b[0m \u001b[0;34m[\u001b[0m\u001b[0mindexer\u001b[0m\u001b[0;34m]\u001b[0m\u001b[0;34m\u001b[0m\u001b[0;34m\u001b[0m\u001b[0m\n",
      "\u001b[0;32m~/anaconda3/envs/myenv/lib/python3.8/site-packages/pandas/core/indexes/base.py\u001b[0m in \u001b[0;36mget_loc\u001b[0;34m(self, key, method, tolerance)\u001b[0m\n\u001b[1;32m   2895\u001b[0m                 \u001b[0;32mreturn\u001b[0m \u001b[0mself\u001b[0m\u001b[0;34m.\u001b[0m\u001b[0m_engine\u001b[0m\u001b[0;34m.\u001b[0m\u001b[0mget_loc\u001b[0m\u001b[0;34m(\u001b[0m\u001b[0mcasted_key\u001b[0m\u001b[0;34m)\u001b[0m\u001b[0;34m\u001b[0m\u001b[0;34m\u001b[0m\u001b[0m\n\u001b[1;32m   2896\u001b[0m             \u001b[0;32mexcept\u001b[0m \u001b[0mKeyError\u001b[0m \u001b[0;32mas\u001b[0m \u001b[0merr\u001b[0m\u001b[0;34m:\u001b[0m\u001b[0;34m\u001b[0m\u001b[0;34m\u001b[0m\u001b[0m\n\u001b[0;32m-> 2897\u001b[0;31m                 \u001b[0;32mraise\u001b[0m \u001b[0mKeyError\u001b[0m\u001b[0;34m(\u001b[0m\u001b[0mkey\u001b[0m\u001b[0;34m)\u001b[0m \u001b[0;32mfrom\u001b[0m \u001b[0merr\u001b[0m\u001b[0;34m\u001b[0m\u001b[0;34m\u001b[0m\u001b[0m\n\u001b[0m\u001b[1;32m   2898\u001b[0m \u001b[0;34m\u001b[0m\u001b[0m\n\u001b[1;32m   2899\u001b[0m         \u001b[0;32mif\u001b[0m \u001b[0mtolerance\u001b[0m \u001b[0;32mis\u001b[0m \u001b[0;32mnot\u001b[0m \u001b[0;32mNone\u001b[0m\u001b[0;34m:\u001b[0m\u001b[0;34m\u001b[0m\u001b[0;34m\u001b[0m\u001b[0m\n",
      "\u001b[0;31mKeyError\u001b[0m: 's_total_units'"
     ]
    }
   ],
   "source": [
    "plt.scatter(data['s_total_units'], data['s_sale_price'], s=3)\n",
    "plt.xlabel('Number of units in property')\n",
    "plt.ylabel('Property Sale Price')\n",
    "plt.title('Property Sale Price vs Units in Property')\n",
    "plt.show()"
   ]
  },
  {
   "cell_type": "code",
   "execution_count": 207,
   "metadata": {},
   "outputs": [],
   "source": [
    "from sklearn.tree import DecisionTreeRegressor\n",
    "dtr = DecisionTreeRegressor()\n",
    "# data_minusbbl = data.drop(columns = ['s_bbl'])\n",
    "Y = data.loc[:, data.columns == 's_sale_price']\n",
    "X = data.loc[:, data.columns != 's_sale_price']\n",
    "scaler.fit(X)\n",
    "scaled_data = scaler.transform(X)\n",
    "dtr = dtr.fit(scaled_data, Y)"
   ]
  },
  {
   "cell_type": "code",
   "execution_count": 208,
   "metadata": {},
   "outputs": [
    {
     "data": {
      "image/png": "[encoded data removed]",
      "text/plain": [
       "<Figure size 720x360 with 1 Axes>"
      ]
     },
     "metadata": {
      "needs_background": "light"
     },
     "output_type": "display_data"
    }
   ],
   "source": [
    "feat_imp = dtr.feature_importances_\n",
    "X_labels = X.columns\n",
    "feat_imp_df = pd.DataFrame(zip(X_labels,feat_imp))\n",
    "sorted_df = feat_imp_df.sort_values(1)\n",
    "x_pos = np.arange(len(X_labels))\n",
    "plt.figure(figsize=(10, 5))\n",
    "plt.bar(x_pos, sorted_df[1],color='green')\n",
    "plt.xticks(x_pos, sorted_df[0])\n",
    "plt.xlabel('Feature')\n",
    "plt.ylabel('Feature Importance')\n",
    "plt.title('Features by Y Importance')\n",
    "plt.show()"
   ]
  },
  {
   "cell_type": "code",
   "execution_count": 209,
   "metadata": {},
   "outputs": [
    {
     "data": {
      "text/html": [
       "<div>\n",
       "<style scoped>\n",
       "    .dataframe tbody tr th:only-of-type {\n",
       "        vertical-align: middle;\n",
       "    }\n",
       "\n",
       "    .dataframe tbody tr th {\n",
       "        vertical-align: top;\n",
       "    }\n",
       "\n",
       "    .dataframe thead th {\n",
       "        text-align: right;\n",
       "    }\n",
       "</style>\n",
       "<table border=\"1\" class=\"dataframe\">\n",
       "  <thead>\n",
       "    <tr style=\"text-align: right;\">\n",
       "      <th></th>\n",
       "      <th>0</th>\n",
       "      <th>1</th>\n",
       "    </tr>\n",
       "  </thead>\n",
       "  <tbody>\n",
       "    <tr>\n",
       "      <th>0</th>\n",
       "      <td>s_borough</td>\n",
       "      <td>0.000009</td>\n",
       "    </tr>\n",
       "    <tr>\n",
       "      <th>27</th>\n",
       "      <td>d_PC_3</td>\n",
       "      <td>0.000252</td>\n",
       "    </tr>\n",
       "    <tr>\n",
       "      <th>35</th>\n",
       "      <td>d_PC_11</td>\n",
       "      <td>0.000328</td>\n",
       "    </tr>\n",
       "    <tr>\n",
       "      <th>34</th>\n",
       "      <td>d_PC_10</td>\n",
       "      <td>0.000398</td>\n",
       "    </tr>\n",
       "    <tr>\n",
       "      <th>39</th>\n",
       "      <td>d_PC_15</td>\n",
       "      <td>0.000418</td>\n",
       "    </tr>\n",
       "    <tr>\n",
       "      <th>28</th>\n",
       "      <td>d_PC_4</td>\n",
       "      <td>0.000612</td>\n",
       "    </tr>\n",
       "    <tr>\n",
       "      <th>44</th>\n",
       "      <td>d_PC_20</td>\n",
       "      <td>0.000623</td>\n",
       "    </tr>\n",
       "    <tr>\n",
       "      <th>25</th>\n",
       "      <td>d_PC_1</td>\n",
       "      <td>0.000640</td>\n",
       "    </tr>\n",
       "    <tr>\n",
       "      <th>36</th>\n",
       "      <td>d_PC_12</td>\n",
       "      <td>0.000650</td>\n",
       "    </tr>\n",
       "    <tr>\n",
       "      <th>43</th>\n",
       "      <td>d_PC_19</td>\n",
       "      <td>0.000683</td>\n",
       "    </tr>\n",
       "    <tr>\n",
       "      <th>42</th>\n",
       "      <td>d_PC_18</td>\n",
       "      <td>0.000694</td>\n",
       "    </tr>\n",
       "    <tr>\n",
       "      <th>31</th>\n",
       "      <td>d_PC_7</td>\n",
       "      <td>0.000757</td>\n",
       "    </tr>\n",
       "    <tr>\n",
       "      <th>32</th>\n",
       "      <td>d_PC_8</td>\n",
       "      <td>0.000765</td>\n",
       "    </tr>\n",
       "    <tr>\n",
       "      <th>30</th>\n",
       "      <td>d_PC_6</td>\n",
       "      <td>0.000774</td>\n",
       "    </tr>\n",
       "    <tr>\n",
       "      <th>26</th>\n",
       "      <td>d_PC_2</td>\n",
       "      <td>0.000824</td>\n",
       "    </tr>\n",
       "    <tr>\n",
       "      <th>33</th>\n",
       "      <td>d_PC_9</td>\n",
       "      <td>0.000852</td>\n",
       "    </tr>\n",
       "    <tr>\n",
       "      <th>41</th>\n",
       "      <td>d_PC_17</td>\n",
       "      <td>0.000955</td>\n",
       "    </tr>\n",
       "    <tr>\n",
       "      <th>29</th>\n",
       "      <td>d_PC_5</td>\n",
       "      <td>0.000987</td>\n",
       "    </tr>\n",
       "    <tr>\n",
       "      <th>40</th>\n",
       "      <td>d_PC_16</td>\n",
       "      <td>0.001030</td>\n",
       "    </tr>\n",
       "    <tr>\n",
       "      <th>37</th>\n",
       "      <td>d_PC_13</td>\n",
       "      <td>0.001111</td>\n",
       "    </tr>\n",
       "    <tr>\n",
       "      <th>13</th>\n",
       "      <td>m_PC_4</td>\n",
       "      <td>0.001684</td>\n",
       "    </tr>\n",
       "    <tr>\n",
       "      <th>12</th>\n",
       "      <td>m_PC_3</td>\n",
       "      <td>0.001998</td>\n",
       "    </tr>\n",
       "    <tr>\n",
       "      <th>7</th>\n",
       "      <td>a_count</td>\n",
       "      <td>0.003062</td>\n",
       "    </tr>\n",
       "    <tr>\n",
       "      <th>21</th>\n",
       "      <td>m_PC_12</td>\n",
       "      <td>0.003198</td>\n",
       "    </tr>\n",
       "    <tr>\n",
       "      <th>10</th>\n",
       "      <td>m_PC_1</td>\n",
       "      <td>0.003222</td>\n",
       "    </tr>\n",
       "    <tr>\n",
       "      <th>22</th>\n",
       "      <td>m_PC_13</td>\n",
       "      <td>0.003279</td>\n",
       "    </tr>\n",
       "    <tr>\n",
       "      <th>3</th>\n",
       "      <td>s_building_class_at_sale</td>\n",
       "      <td>0.003772</td>\n",
       "    </tr>\n",
       "    <tr>\n",
       "      <th>14</th>\n",
       "      <td>m_PC_5</td>\n",
       "      <td>0.003884</td>\n",
       "    </tr>\n",
       "    <tr>\n",
       "      <th>20</th>\n",
       "      <td>m_PC_11</td>\n",
       "      <td>0.003939</td>\n",
       "    </tr>\n",
       "    <tr>\n",
       "      <th>38</th>\n",
       "      <td>d_PC_14</td>\n",
       "      <td>0.004210</td>\n",
       "    </tr>\n",
       "    <tr>\n",
       "      <th>11</th>\n",
       "      <td>m_PC_2</td>\n",
       "      <td>0.004715</td>\n",
       "    </tr>\n",
       "    <tr>\n",
       "      <th>18</th>\n",
       "      <td>m_PC_9</td>\n",
       "      <td>0.004935</td>\n",
       "    </tr>\n",
       "    <tr>\n",
       "      <th>16</th>\n",
       "      <td>m_PC_7</td>\n",
       "      <td>0.004975</td>\n",
       "    </tr>\n",
       "    <tr>\n",
       "      <th>8</th>\n",
       "      <td>c_count</td>\n",
       "      <td>0.005858</td>\n",
       "    </tr>\n",
       "    <tr>\n",
       "      <th>19</th>\n",
       "      <td>m_PC_10</td>\n",
       "      <td>0.006409</td>\n",
       "    </tr>\n",
       "    <tr>\n",
       "      <th>23</th>\n",
       "      <td>m_PC_14</td>\n",
       "      <td>0.006595</td>\n",
       "    </tr>\n",
       "    <tr>\n",
       "      <th>15</th>\n",
       "      <td>m_PC_6</td>\n",
       "      <td>0.008048</td>\n",
       "    </tr>\n",
       "    <tr>\n",
       "      <th>17</th>\n",
       "      <td>m_PC_8</td>\n",
       "      <td>0.009109</td>\n",
       "    </tr>\n",
       "    <tr>\n",
       "      <th>24</th>\n",
       "      <td>m_PC_15</td>\n",
       "      <td>0.011458</td>\n",
       "    </tr>\n",
       "    <tr>\n",
       "      <th>6</th>\n",
       "      <td>v_nta</td>\n",
       "      <td>0.013177</td>\n",
       "    </tr>\n",
       "    <tr>\n",
       "      <th>2</th>\n",
       "      <td>s_year_built</td>\n",
       "      <td>0.020215</td>\n",
       "    </tr>\n",
       "    <tr>\n",
       "      <th>4</th>\n",
       "      <td>v_stories</td>\n",
       "      <td>0.074530</td>\n",
       "    </tr>\n",
       "    <tr>\n",
       "      <th>9</th>\n",
       "      <td>imputed_land_area</td>\n",
       "      <td>0.085350</td>\n",
       "    </tr>\n",
       "    <tr>\n",
       "      <th>1</th>\n",
       "      <td>s_zipcode</td>\n",
       "      <td>0.116851</td>\n",
       "    </tr>\n",
       "    <tr>\n",
       "      <th>5</th>\n",
       "      <td>v_fullval</td>\n",
       "      <td>0.582167</td>\n",
       "    </tr>\n",
       "  </tbody>\n",
       "</table>\n",
       "</div>"
      ],
      "text/plain": [
       "                           0         1\n",
       "0                  s_borough  0.000009\n",
       "27                    d_PC_3  0.000252\n",
       "35                   d_PC_11  0.000328\n",
       "34                   d_PC_10  0.000398\n",
       "39                   d_PC_15  0.000418\n",
       "28                    d_PC_4  0.000612\n",
       "44                   d_PC_20  0.000623\n",
       "25                    d_PC_1  0.000640\n",
       "36                   d_PC_12  0.000650\n",
       "43                   d_PC_19  0.000683\n",
       "42                   d_PC_18  0.000694\n",
       "31                    d_PC_7  0.000757\n",
       "32                    d_PC_8  0.000765\n",
       "30                    d_PC_6  0.000774\n",
       "26                    d_PC_2  0.000824\n",
       "33                    d_PC_9  0.000852\n",
       "41                   d_PC_17  0.000955\n",
       "29                    d_PC_5  0.000987\n",
       "40                   d_PC_16  0.001030\n",
       "37                   d_PC_13  0.001111\n",
       "13                    m_PC_4  0.001684\n",
       "12                    m_PC_3  0.001998\n",
       "7                    a_count  0.003062\n",
       "21                   m_PC_12  0.003198\n",
       "10                    m_PC_1  0.003222\n",
       "22                   m_PC_13  0.003279\n",
       "3   s_building_class_at_sale  0.003772\n",
       "14                    m_PC_5  0.003884\n",
       "20                   m_PC_11  0.003939\n",
       "38                   d_PC_14  0.004210\n",
       "11                    m_PC_2  0.004715\n",
       "18                    m_PC_9  0.004935\n",
       "16                    m_PC_7  0.004975\n",
       "8                    c_count  0.005858\n",
       "19                   m_PC_10  0.006409\n",
       "23                   m_PC_14  0.006595\n",
       "15                    m_PC_6  0.008048\n",
       "17                    m_PC_8  0.009109\n",
       "24                   m_PC_15  0.011458\n",
       "6                      v_nta  0.013177\n",
       "2               s_year_built  0.020215\n",
       "4                  v_stories  0.074530\n",
       "9          imputed_land_area  0.085350\n",
       "1                  s_zipcode  0.116851\n",
       "5                  v_fullval  0.582167"
      ]
     },
     "execution_count": 209,
     "metadata": {},
     "output_type": "execute_result"
    }
   ],
   "source": [
    "# Table of feature importances\n",
    "sorted_df"
   ]
  },
  {
   "cell_type": "code",
   "execution_count": 210,
   "metadata": {},
   "outputs": [
    {
     "data": {
      "text/plain": [
       "array(['s_borough', 'd_PC_3', 'd_PC_11', 'd_PC_10', 'd_PC_15', 'd_PC_4',\n",
       "       'd_PC_20', 'd_PC_1', 'd_PC_12', 'd_PC_19', 'd_PC_18', 'd_PC_7',\n",
       "       'd_PC_8', 'd_PC_6', 'd_PC_2', 'd_PC_9', 'd_PC_17', 'd_PC_5',\n",
       "       'd_PC_16', 'd_PC_13', 'm_PC_4', 'm_PC_3', 'a_count', 'm_PC_12',\n",
       "       'm_PC_1', 'm_PC_13', 's_building_class_at_sale', 'm_PC_5',\n",
       "       'm_PC_11', 'd_PC_14', 'm_PC_2', 'm_PC_9', 'm_PC_7', 'c_count',\n",
       "       'm_PC_10', 'm_PC_14', 'm_PC_6', 'm_PC_8', 'm_PC_15', 'v_nta',\n",
       "       's_year_built', 'v_stories', 'imputed_land_area', 's_zipcode',\n",
       "       'v_fullval'], dtype=object)"
      ]
     },
     "execution_count": 210,
     "metadata": {},
     "output_type": "execute_result"
    }
   ],
   "source": [
    "best_features_d = sorted_df[0].tail(50).to_numpy()\n",
    "best_features_d"
   ]
  },
  {
   "cell_type": "code",
   "execution_count": 211,
   "metadata": {},
   "outputs": [
    {
     "data": {
      "image/png": "[encoded data removed]",
      "text/plain": [
       "<Figure size 1440x720 with 1 Axes>"
      ]
     },
     "metadata": {
      "needs_background": "light"
     },
     "output_type": "display_data"
    }
   ],
   "source": [
    "plt.figure(figsize=(20, 10))\n",
    "plt.bar(sorted_df[-10:][0],sorted_df[-10:][1])\n",
    "plt.xticks(np.arange(10), rotation=30, ha = \"right\", rotation_mode=\"anchor\")\n",
    "plt.xlabel('Feature')\n",
    "plt.ylabel('Importance')\n",
    "plt.title('Feature Importance by Decision Tree Regressor')\n",
    "plt.rcParams.update({'font.size': 20})\n",
    "plt.show()"
   ]
  },
  {
   "cell_type": "markdown",
   "metadata": {},
   "source": [
    "# Maybe a different Feature Selection Method"
   ]
  },
  {
   "cell_type": "code",
   "execution_count": 65,
   "metadata": {},
   "outputs": [],
   "source": [
    "# ANOVA feature selection for numeric input and categorical output\n",
    "from sklearn.datasets import make_classification\n",
    "from sklearn.feature_selection import SelectKBest\n",
    "from sklearn.feature_selection import f_classif\n",
    "from sklearn.preprocessing import StandardScaler\n",
    "scaler = StandardScaler()\n",
    "\n",
    "above = '../../../'\n",
    "data = pd.read_pickle(above + 'post_eda.pkl')\n",
    "data.drop([\"s_total_units\"], axis =1, inplace=True)\n",
    "Y = data.loc[:, data.columns == 's_sale_price']\n",
    "X = data.loc[:, data.columns != 's_sale_price']\n",
    "scaler.fit(X)\n",
    "scaled_data = scaler.transform(X)"
   ]
  },
  {
   "cell_type": "code",
   "execution_count": 87,
   "metadata": {},
   "outputs": [
    {
     "data": {
      "text/plain": [
       "array(['s_borough', 's_zipcode', 's_building_class_at_sale', 'v_stories',\n",
       "       'v_fullval', 'd_9th_to_12th_grade_no_diploma_pct',\n",
       "       'd_high_school_graduate_pct', 'd_some_college_no_degree_pct',\n",
       "       'd_associates_degree_pct', 'd_bachelors_degree',\n",
       "       'd_bachelors_degree_pct', 'd_graduate_or_professional_degree',\n",
       "       'd_graduate_or_professional_degree_pct', 'd_white_population',\n",
       "       'd_american_indian_and_alaska_native_population',\n",
       "       'd_american_indian_and_alaska_native_population_pct',\n",
       "       'd_total_housing_units', 'd_no_bedroom_units',\n",
       "       'd_no_bedroom_units_pct', 'd_1_bedroom_units',\n",
       "       'd_1_bedroom_units_pct', 'd_2_bedroom_units',\n",
       "       'd_3_bedroom_units_pct', 'd_4_bedroom_units_pct',\n",
       "       'd_5_bedroom_units_pct', 'd_units_from_100000_to_149999',\n",
       "       'd_units_from_100000_to_149999_pct',\n",
       "       'd_units_from_150000_to_199999',\n",
       "       'd_units_from_150000_to_199999_pct',\n",
       "       'd_units_from_200000_to_299999',\n",
       "       'd_units_from_200000_to_299999_pct',\n",
       "       'd_units_from_300000_to_499999',\n",
       "       'd_units_from_300000_to_499999_pct', 'd_units_1000000_or_more',\n",
       "       'd_units_1000000_or_more_pct', 'd_median_housing_price',\n",
       "       'd_total_households', 'd_households_less_than_10000',\n",
       "       'd_households_from_10000_to_14999',\n",
       "       'd_households_from_25000_to_34999_pct',\n",
       "       'd_households_from_35000_to_49999_pct',\n",
       "       'd_households_from_50000_to_74999_pct',\n",
       "       'd_households_from_75000_to_99999_pct',\n",
       "       'd_households_from_150000_to_199999',\n",
       "       'd_households_200000_or_more', 'd_households_200000_or_more_pct',\n",
       "       'd_median_household_income_dollars',\n",
       "       'd_mean_household_income_dollars', 'a_count', 'c_count'],\n",
       "      dtype=object)"
      ]
     },
     "execution_count": 87,
     "metadata": {},
     "output_type": "execute_result"
    }
   ],
   "source": [
    "from sklearn.feature_selection import SelectKBest, f_regression\n",
    "select_k_best_classifier = SelectKBest(score_func=f_regression, k=50).fit(scaled_data, Y.values.ravel())\n",
    "mask = select_k_best_classifier.get_support()\n",
    "best_features_l = X.columns[mask].to_numpy()\n",
    "best_features_l"
   ]
  },
  {
   "cell_type": "code",
   "execution_count": 89,
   "metadata": {},
   "outputs": [
    {
     "data": {
      "text/plain": [
       "39"
      ]
     },
     "execution_count": 89,
     "metadata": {},
     "output_type": "execute_result"
    }
   ],
   "source": [
    "# The elements in SelectKBest absent form the Decision tree Regressor:\n",
    "in_l_ad = np.setdiff1d(best_features_l,best_features_d)\n",
    "len(in_l_ad)"
   ]
  },
  {
   "cell_type": "code",
   "execution_count": 80,
   "metadata": {},
   "outputs": [],
   "source": [
    "# The elements in Decision tree Regressor absent form SelectKBest:\n",
    "in_d_al = np.setdiff1d(best_features_d,best_features_l)"
   ]
  },
  {
   "cell_type": "code",
   "execution_count": 90,
   "metadata": {},
   "outputs": [
    {
     "data": {
      "text/plain": [
       "array(['a_count', 'c_count', 'd_3_bedroom_units_pct',\n",
       "       'd_9th_to_12th_grade_no_diploma_pct',\n",
       "       'd_households_200000_or_more',\n",
       "       'd_households_from_35000_to_49999_pct', 'd_total_households',\n",
       "       's_building_class_at_sale', 's_zipcode', 'v_fullval', 'v_stories'],\n",
       "      dtype=object)"
      ]
     },
     "execution_count": 90,
     "metadata": {},
     "output_type": "execute_result"
    }
   ],
   "source": [
    "# These are the matching features\n",
    "matching = np.setdiff1d(best_features_l, np.setdiff1d(best_features_l,best_features_d))\n",
    "matching"
   ]
  },
  {
   "cell_type": "code",
   "execution_count": 91,
   "metadata": {},
   "outputs": [
    {
     "data": {
      "text/plain": [
       "array(['a_count', 'c_count', 'd_3_bedroom_units_pct',\n",
       "       'd_9th_to_12th_grade_no_diploma_pct',\n",
       "       'd_households_200000_or_more',\n",
       "       'd_households_from_35000_to_49999_pct', 'd_total_households',\n",
       "       's_building_class_at_sale', 's_zipcode', 'v_fullval', 'v_stories',\n",
       "       'd_1_bedroom_units', 'd_1_bedroom_units_pct', 'd_2_bedroom_units',\n",
       "       'd_4_bedroom_units_pct', 'd_5_bedroom_units_pct',\n",
       "       'd_american_indian_and_alaska_native_population',\n",
       "       'd_american_indian_and_alaska_native_population_pct',\n",
       "       'd_associates_degree_pct', 'd_bachelors_degree',\n",
       "       'd_bachelors_degree_pct', 'd_graduate_or_professional_degree',\n",
       "       'd_graduate_or_professional_degree_pct',\n",
       "       'd_high_school_graduate_pct', 'd_households_200000_or_more_pct',\n",
       "       'd_households_from_10000_to_14999',\n",
       "       'd_households_from_150000_to_199999',\n",
       "       'd_households_from_25000_to_34999_pct',\n",
       "       'd_households_from_50000_to_74999_pct',\n",
       "       'd_households_from_75000_to_99999_pct',\n",
       "       'd_households_less_than_10000', 'd_mean_household_income_dollars',\n",
       "       'd_median_household_income_dollars', 'd_median_housing_price',\n",
       "       'd_no_bedroom_units', 'd_no_bedroom_units_pct',\n",
       "       'd_some_college_no_degree_pct', 'd_total_housing_units',\n",
       "       'd_units_1000000_or_more', 'd_units_1000000_or_more_pct',\n",
       "       'd_units_from_100000_to_149999',\n",
       "       'd_units_from_100000_to_149999_pct',\n",
       "       'd_units_from_150000_to_199999',\n",
       "       'd_units_from_150000_to_199999_pct',\n",
       "       'd_units_from_200000_to_299999',\n",
       "       'd_units_from_200000_to_299999_pct',\n",
       "       'd_units_from_300000_to_499999',\n",
       "       'd_units_from_300000_to_499999_pct', 'd_white_population',\n",
       "       's_borough', 'd_5_bedroom_units',\n",
       "       'd_9th_to_12th_grade_no_diploma_pct',\n",
       "       'd_black_or_african_american_population',\n",
       "       'd_households_from_100000_to_149999_pct',\n",
       "       'd_households_from_150000_to_199999_pct',\n",
       "       'd_households_from_25000_to_34999', 'd_less_than_9th_grade',\n",
       "       'd_native_hawaiian_and_other_pacific_islander_population',\n",
       "       'd_native_hawaiian_and_other_pacific_islander_population_pct',\n",
       "       'd_units_from_50000_to_99999', 'd_units_less_than_50000_pct',\n",
       "       'd_white_population_pct', 'imputed_land_area',\n",
       "       'm_10yr_treasury_constant_maturity_rate',\n",
       "       'm_10yr_treasury_constant_maturity_rate_%chg',\n",
       "       'm_30yr_fixed_rate_mortgage_avg_in_us',\n",
       "       'm_30yr_fixed_rate_mortgage_avg_in_us_%chg',\n",
       "       'm_case_shiller_ny_home_price_index',\n",
       "       'm_case_shiller_ny_home_price_index_%chg',\n",
       "       'm_case_shiller_us_national_home_price_index',\n",
       "       'm_case_shiller_us_national_home_price_index_%chg',\n",
       "       'm_consumer_price_index', 'm_consumer_price_index_%chg',\n",
       "       'm_core_cpi', 'm_core_cpi_%chg', 'm_effective_fed_funds_rate',\n",
       "       'm_effective_fed_funds_rate_%chg', 'm_inflation_rate',\n",
       "       'm_inflation_rate_%chg', 'm_population_level',\n",
       "       'm_population_level_%chg', 'm_real_gross_domestic_product_%chg',\n",
       "       'm_sp500_index', 'm_sp500_index_%chg', 'm_unemployment_rate',\n",
       "       'm_unemployment_rate_%chg', 'm_us_real_median_household_income',\n",
       "       'm_us_real_median_household_income_%chg', 's_year_built', 'v_nta'],\n",
       "      dtype=object)"
      ]
     },
     "execution_count": 91,
     "metadata": {},
     "output_type": "execute_result"
    }
   ],
   "source": [
    "combined = np.concatenate((matching,in_l_ad,in_d_al))\n",
    "combined"
   ]
  },
  {
   "cell_type": "code",
   "execution_count": 131,
   "metadata": {},
   "outputs": [],
   "source": [
    "data[np.concatenate((best_features_d,np.array([\"s_sale_price\", 's_bbl'])))].to_pickle(above + 'd_decision.pkl')"
   ]
  },
  {
   "cell_type": "code",
   "execution_count": 107,
   "metadata": {},
   "outputs": [],
   "source": [
    "data[np.concatenate((best_features_l,np.array([\"s_sale_price\"])))].to_pickle(above + 'd_selectKbest.pkl')"
   ]
  }
 ],
 "metadata": {
  "kernelspec": {
   "display_name": "Python 3",
   "language": "python",
   "name": "python3"
  },
  "language_info": {
   "codemirror_mode": {
    "name": "ipython",
    "version": 3
   },
   "file_extension": ".py",
   "mimetype": "text/x-python",
   "name": "python",
   "nbconvert_exporter": "python",
   "pygments_lexer": "ipython3",
   "version": "3.8.3"
  }
 },
 "nbformat": 4,
 "nbformat_minor": 4
}
